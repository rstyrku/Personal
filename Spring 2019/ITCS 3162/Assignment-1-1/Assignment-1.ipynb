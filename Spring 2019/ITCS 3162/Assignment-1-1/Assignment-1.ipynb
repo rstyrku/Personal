{
 "cells": [
  {
   "cell_type": "markdown",
   "metadata": {},
   "source": [
    "# Assignment : Intro to Python and Pandas   (Roman Styrku)\n",
    "# Due on: 02/06/2019 by 11:59 pm via Canvas"
   ]
  },
  {
   "cell_type": "code",
   "execution_count": 4,
   "metadata": {},
   "outputs": [],
   "source": [
    "import numpy as np\n",
    "import pandas as pd"
   ]
  },
  {
   "cell_type": "markdown",
   "metadata": {},
   "source": [
    "### TASK-1\n",
    "### Create two (1 * 10) array using numpy and name them X and Y. Fill the array with random values\n",
    "### Calculate elementwise addition, subtraction, multiplication, and division of X and Y. Print all results"
   ]
  },
  {
   "cell_type": "code",
   "execution_count": 199,
   "metadata": {},
   "outputs": [
    {
     "name": "stdout",
     "output_type": "stream",
     "text": [
      "X = [0.71187941 0.58981636 0.73851453 0.77642944 0.66304526 0.63037636\n",
      " 0.02328157 0.34721321 0.31915166 0.41844255]\n",
      "\n",
      "Y = [0.55767067 0.9244202  0.09386984 0.03626034 0.03003148 0.02914467\n",
      " 0.0715883  0.62611287 0.41322971 0.01641309]\n"
     ]
    }
   ],
   "source": [
    "x = np.random.rand(10)\n",
    "y = np.random.rand(10)\n",
    "print ('X = ' + str(x))\n",
    "print ('')\n",
    "print ('Y = ' + str(y))"
   ]
  },
  {
   "cell_type": "code",
   "execution_count": 200,
   "metadata": {},
   "outputs": [
    {
     "name": "stdout",
     "output_type": "stream",
     "text": [
      "X + Y = [1.26955009 1.51423656 0.83238437 0.81268977 0.69307673 0.65952102\n",
      " 0.09486987 0.97332608 0.73238137 0.43485564]\n"
     ]
    }
   ],
   "source": [
    "print ('X + Y = ' + str(np.add(x, y)))"
   ]
  },
  {
   "cell_type": "markdown",
   "metadata": {},
   "source": [
    "### TASK-2\n",
    "### Load the Car_Evaluation Data using pandas"
   ]
  },
  {
   "cell_type": "code",
   "execution_count": 201,
   "metadata": {},
   "outputs": [
    {
     "name": "stdout",
     "output_type": "stream",
     "text": [
      "Car Evaluation: \n",
      "\n",
      "     buying  maint  doors persons lug_boot safety  class\n",
      "0     vhigh  vhigh      2       2    small    low  unacc\n",
      "1     vhigh  vhigh      2       2    small    med  unacc\n",
      "2     vhigh  vhigh      2       2    small   high  unacc\n",
      "3     vhigh  vhigh      2       2      med    low  unacc\n",
      "4     vhigh  vhigh      2       2      med    med  unacc\n",
      "5     vhigh  vhigh      2       2      med   high  unacc\n",
      "6     vhigh  vhigh      2       2      big    low  unacc\n",
      "7     vhigh  vhigh      2       2      big    med  unacc\n",
      "8     vhigh  vhigh      2       2      big   high  unacc\n",
      "9     vhigh  vhigh      2       4    small    low  unacc\n",
      "10    vhigh  vhigh      2       4    small    med  unacc\n",
      "11    vhigh  vhigh      2       4    small   high  unacc\n",
      "12    vhigh  vhigh      2       4      med    low  unacc\n",
      "13    vhigh  vhigh      2       4      med    med  unacc\n",
      "14    vhigh  vhigh      2       4      med   high  unacc\n",
      "15    vhigh  vhigh      2       4      big    low  unacc\n",
      "16    vhigh  vhigh      2       4      big    med  unacc\n",
      "17    vhigh  vhigh      2       4      big   high  unacc\n",
      "18    vhigh  vhigh      2    more    small    low  unacc\n",
      "19    vhigh  vhigh      2    more    small    med  unacc\n",
      "20    vhigh  vhigh      2    more    small   high  unacc\n",
      "21    vhigh  vhigh      2    more      med    low  unacc\n",
      "22    vhigh  vhigh      2    more      med    med  unacc\n",
      "23    vhigh  vhigh      2    more      med   high  unacc\n",
      "24    vhigh  vhigh      2    more      big    low  unacc\n",
      "25    vhigh  vhigh      2    more      big    med  unacc\n",
      "26    vhigh  vhigh      2    more      big   high  unacc\n",
      "27    vhigh  vhigh      3       2    small    low  unacc\n",
      "28    vhigh  vhigh      3       2    small    med  unacc\n",
      "29    vhigh  vhigh      3       2    small   high  unacc\n",
      "...     ...    ...    ...     ...      ...    ...    ...\n",
      "1698    low    low      4    more      big    low  unacc\n",
      "1699    low    low      4    more      big    med   good\n",
      "1700    low    low      4    more      big   high  vgood\n",
      "1701    low    low  5more       2    small    low  unacc\n",
      "1702    low    low  5more       2    small    med  unacc\n",
      "1703    low    low  5more       2    small   high  unacc\n",
      "1704    low    low  5more       2      med    low  unacc\n",
      "1705    low    low  5more       2      med    med  unacc\n",
      "1706    low    low  5more       2      med   high  unacc\n",
      "1707    low    low  5more       2      big    low  unacc\n",
      "1708    low    low  5more       2      big    med  unacc\n",
      "1709    low    low  5more       2      big   high  unacc\n",
      "1710    low    low  5more       4    small    low  unacc\n",
      "1711    low    low  5more       4    small    med    acc\n",
      "1712    low    low  5more       4    small   high   good\n",
      "1713    low    low  5more       4      med    low  unacc\n",
      "1714    low    low  5more       4      med    med   good\n",
      "1715    low    low  5more       4      med   high  vgood\n",
      "1716    low    low  5more       4      big    low  unacc\n",
      "1717    low    low  5more       4      big    med   good\n",
      "1718    low    low  5more       4      big   high  vgood\n",
      "1719    low    low  5more    more    small    low  unacc\n",
      "1720    low    low  5more    more    small    med    acc\n",
      "1721    low    low  5more    more    small   high   good\n",
      "1722    low    low  5more    more      med    low  unacc\n",
      "1723    low    low  5more    more      med    med   good\n",
      "1724    low    low  5more    more      med   high  vgood\n",
      "1725    low    low  5more    more      big    low  unacc\n",
      "1726    low    low  5more    more      big    med   good\n",
      "1727    low    low  5more    more      big   high  vgood\n",
      "\n",
      "[1728 rows x 7 columns]\n"
     ]
    }
   ],
   "source": [
    "data = pd.read_csv(\"Car_Evaluation.csv\")\n",
    "print ('Car Evaluation: ')\n",
    "print ('')\n",
    "print (data)"
   ]
  },
  {
   "cell_type": "code",
   "execution_count": null,
   "metadata": {},
   "outputs": [],
   "source": []
  },
  {
   "cell_type": "markdown",
   "metadata": {},
   "source": [
    "### TASK-3\n",
    "### Print length of the dataframe"
   ]
  },
  {
   "cell_type": "code",
   "execution_count": 202,
   "metadata": {},
   "outputs": [
    {
     "name": "stdout",
     "output_type": "stream",
     "text": [
      "Length = 1728\n"
     ]
    }
   ],
   "source": [
    "print ('Length = ' + str(data.shape[0]))"
   ]
  },
  {
   "cell_type": "code",
   "execution_count": null,
   "metadata": {},
   "outputs": [],
   "source": []
  },
  {
   "cell_type": "markdown",
   "metadata": {},
   "source": [
    "### TASK-4\n",
    "### Print number of attributes and attribute names of the dataframe"
   ]
  },
  {
   "cell_type": "code",
   "execution_count": 203,
   "metadata": {},
   "outputs": [
    {
     "name": "stdout",
     "output_type": "stream",
     "text": [
      "Attribute Names = ['buying' 'maint' 'doors' 'persons' 'lug_boot' 'safety' 'class']\n",
      "Number of Attributes = 7\n"
     ]
    }
   ],
   "source": [
    "print ('Attribute Names = ' + str(data.columns.values))\n",
    "print ('Number of Attributes = ' + str(data.shape[1]))"
   ]
  },
  {
   "cell_type": "code",
   "execution_count": null,
   "metadata": {},
   "outputs": [],
   "source": []
  },
  {
   "cell_type": "markdown",
   "metadata": {},
   "source": [
    "### TASK-5\n",
    "### Print unique values of each attribute in the dataframe"
   ]
  },
  {
   "cell_type": "code",
   "execution_count": 205,
   "metadata": {},
   "outputs": [
    {
     "name": "stdout",
     "output_type": "stream",
     "text": [
      "Unique Values:\n",
      "\n",
      "['vhigh' nan 'high' 'med' 'low']\n",
      "['vhigh' 'high' 'med' nan 'low']\n",
      "['2' '3' '4' '5more']\n",
      "['2' '4' 'more' nan]\n",
      "['small' 'med' 'big']\n",
      "['low' 'med' 'high']\n",
      "['unacc' nan 'acc' 'vgood' 'good']\n"
     ]
    }
   ],
   "source": [
    "print ('Unique Values:\\n')\n",
    "for col in data:\n",
    "    print (data[col].unique())"
   ]
  },
  {
   "cell_type": "code",
   "execution_count": null,
   "metadata": {},
   "outputs": [],
   "source": []
  },
  {
   "cell_type": "markdown",
   "metadata": {},
   "source": [
    "### TASK-6\n",
    "### Print datatype of each attribute"
   ]
  },
  {
   "cell_type": "code",
   "execution_count": 206,
   "metadata": {},
   "outputs": [
    {
     "name": "stdout",
     "output_type": "stream",
     "text": [
      "Datatypes: \n",
      "\n",
      "buying      object\n",
      "maint       object\n",
      "doors       object\n",
      "persons     object\n",
      "lug_boot    object\n",
      "safety      object\n",
      "class       object\n",
      "dtype: object\n"
     ]
    }
   ],
   "source": [
    "print ('Datatypes: \\n\\n' + str(data.dtypes))"
   ]
  },
  {
   "cell_type": "code",
   "execution_count": null,
   "metadata": {},
   "outputs": [],
   "source": []
  },
  {
   "cell_type": "markdown",
   "metadata": {},
   "source": [
    "### TASK-7\n",
    "### Load a dataframe where the attribute Class is \"acc\"\n",
    "### Print the resulting dataframe"
   ]
  },
  {
   "cell_type": "code",
   "execution_count": 207,
   "metadata": {},
   "outputs": [
    {
     "name": "stdout",
     "output_type": "stream",
     "text": [
      "Dataframe where \"Class\" == \"acc\":\n",
      "\n",
      "     buying maint  doors persons lug_boot safety class\n",
      "227   vhigh   med      2       4    small   high   acc\n",
      "230   vhigh   med      2       4      med   high   acc\n",
      "232   vhigh   med      2       4      big    med   acc\n",
      "233   vhigh   med      2       4      big   high   acc\n",
      "239   vhigh   med      2    more      med   high   acc\n",
      "241   vhigh   med      2    more      big    med   acc\n",
      "242   vhigh   NaN      2    more      big   high   acc\n",
      "254   vhigh   med      3       4    small   high   acc\n",
      "257   vhigh   med      3       4      med   high   acc\n",
      "259   vhigh   med      3       4      big    med   acc\n",
      "260   vhigh   med      3       4      big   high   acc\n",
      "263   vhigh   med      3    more    small   high   acc\n",
      "265   vhigh   med      3    more      med    med   acc\n",
      "266   vhigh   med      3    more      med   high   acc\n",
      "268   vhigh   med      3    more      big    med   acc\n",
      "269   vhigh   med      3    more      big   high   acc\n",
      "281   vhigh   med      4       4    small   high   acc\n",
      "283   vhigh   med      4       4      med    med   acc\n",
      "284   vhigh   med      4       4      med   high   acc\n",
      "286   vhigh   med      4       4      big    med   acc\n",
      "287   vhigh   med      4       4      big   high   acc\n",
      "290   vhigh   med      4    more    small   high   acc\n",
      "292   vhigh   med      4    more      med    med   acc\n",
      "293   vhigh   med      4    more      med   high   acc\n",
      "295   vhigh   med      4    more      big    med   acc\n",
      "296   vhigh   med      4    more      big   high   acc\n",
      "308   vhigh   med  5more       4    small   high   acc\n",
      "310   vhigh   med  5more       4      med    med   acc\n",
      "311   vhigh   med  5more       4      med   high   acc\n",
      "313   vhigh   med  5more       4      big    med   acc\n",
      "...     ...   ...    ...     ...      ...    ...   ...\n",
      "1480    low  high      4    more      med    med   acc\n",
      "1483    low  high      4    more      big    med   acc\n",
      "1495    low  high  5more       4    small    med   acc\n",
      "1496    low  high  5more       4    small   high   acc\n",
      "1498    low  high  5more       4      med    med   acc\n",
      "1501    low  high  5more       4      big    med   acc\n",
      "1504    low  high  5more    more    small    med   acc\n",
      "1505    low  high  5more    more    small   high   acc\n",
      "1507    low  high  5more    more      med    med   acc\n",
      "1510    low  high  5more    more      big    med   acc\n",
      "1522    low   med      2       4    small    med   acc\n",
      "1525    low   med      2       4      med    med   acc\n",
      "1534    low   med      2    more      med    med   acc\n",
      "1549    low   med      3       4    small    med   acc\n",
      "1552    low   med      3       4      med    med   acc\n",
      "1558    low   med      3    more    small    med   acc\n",
      "1576    low   med      4       4    small    med   acc\n",
      "1585    low   med      4    more    small    med   acc\n",
      "1603    low   med  5more       4    small    med   acc\n",
      "1612    low   med  5more    more    small    med   acc\n",
      "1630    low   low      2       4    small    med   acc\n",
      "1633    low   low      2       4      med    med   acc\n",
      "1642    low   low      2    more      med    med   acc\n",
      "1657    low   low      3       4    small    med   acc\n",
      "1660    low   low      3       4      med    med   acc\n",
      "1666    low   low      3    more    small    med   acc\n",
      "1684    low   low      4       4    small    med   acc\n",
      "1693    low   low      4    more    small    med   acc\n",
      "1711    low   low  5more       4    small    med   acc\n",
      "1720    low   low  5more    more    small    med   acc\n",
      "\n",
      "[384 rows x 7 columns]\n"
     ]
    }
   ],
   "source": [
    "newDF = data[data['class'] == 'acc']\n",
    "print ('Dataframe where \"Class\" == \"acc\":\\n')\n",
    "print (newDF)"
   ]
  },
  {
   "cell_type": "code",
   "execution_count": null,
   "metadata": {},
   "outputs": [],
   "source": []
  },
  {
   "cell_type": "markdown",
   "metadata": {},
   "source": [
    "### TASK-8\n",
    "### Load a dataframe where the attribute Class is \"unacc\" and the attribute Safety is \"low\"\n",
    "### Print the resulting dataframe"
   ]
  },
  {
   "cell_type": "code",
   "execution_count": 208,
   "metadata": {},
   "outputs": [
    {
     "name": "stdout",
     "output_type": "stream",
     "text": [
      "Dataframe where \"Class\" == \"unacc\" and \"Safety\" == \"low\":\n",
      "\n",
      "     buying  maint  doors persons lug_boot safety  class\n",
      "0     vhigh  vhigh      2       2    small    low  unacc\n",
      "3     vhigh  vhigh      2       2      med    low  unacc\n",
      "6     vhigh  vhigh      2       2      big    low  unacc\n",
      "9     vhigh  vhigh      2       4    small    low  unacc\n",
      "12    vhigh  vhigh      2       4      med    low  unacc\n",
      "15    vhigh  vhigh      2       4      big    low  unacc\n",
      "18    vhigh  vhigh      2    more    small    low  unacc\n",
      "21    vhigh  vhigh      2    more      med    low  unacc\n",
      "24    vhigh  vhigh      2    more      big    low  unacc\n",
      "27    vhigh  vhigh      3       2    small    low  unacc\n",
      "30    vhigh  vhigh      3       2      med    low  unacc\n",
      "33    vhigh  vhigh      3       2      big    low  unacc\n",
      "36    vhigh  vhigh      3       4    small    low  unacc\n",
      "39    vhigh  vhigh      3       4      med    low  unacc\n",
      "42    vhigh  vhigh      3       4      big    low  unacc\n",
      "45    vhigh  vhigh      3    more    small    low  unacc\n",
      "48    vhigh  vhigh      3    more      med    low  unacc\n",
      "51    vhigh  vhigh      3    more      big    low  unacc\n",
      "54    vhigh  vhigh      4       2    small    low  unacc\n",
      "57    vhigh  vhigh      4       2      med    low  unacc\n",
      "60    vhigh  vhigh      4       2      big    low  unacc\n",
      "63    vhigh  vhigh      4       4    small    low  unacc\n",
      "66    vhigh  vhigh      4       4      med    low  unacc\n",
      "69    vhigh  vhigh      4       4      big    low  unacc\n",
      "72    vhigh  vhigh      4    more    small    low  unacc\n",
      "75    vhigh  vhigh      4    more      med    low  unacc\n",
      "78    vhigh  vhigh      4    more      big    low  unacc\n",
      "81    vhigh  vhigh  5more       2    small    low  unacc\n",
      "84    vhigh  vhigh  5more       2      med    low  unacc\n",
      "87    vhigh  vhigh  5more       2      big    low  unacc\n",
      "...     ...    ...    ...     ...      ...    ...    ...\n",
      "1638    low    low      2    more    small    low  unacc\n",
      "1641    low    low      2    more      med    low  unacc\n",
      "1644    low    low      2    more      big    low  unacc\n",
      "1647    low    low      3       2    small    low  unacc\n",
      "1650    low    low      3       2      med    low  unacc\n",
      "1653    low    low      3       2      big    low  unacc\n",
      "1656    low    low      3       4    small    low  unacc\n",
      "1659    low    low      3       4      med    low  unacc\n",
      "1662    low    low      3       4      big    low  unacc\n",
      "1665    low    low      3    more    small    low  unacc\n",
      "1668    low    low      3    more      med    low  unacc\n",
      "1671    low    low      3    more      big    low  unacc\n",
      "1674    low    low      4       2    small    low  unacc\n",
      "1677    low    low      4       2      med    low  unacc\n",
      "1680    low    low      4       2      big    low  unacc\n",
      "1683    low    low      4       4    small    low  unacc\n",
      "1686    low    low      4       4      med    low  unacc\n",
      "1689    low    low      4       4      big    low  unacc\n",
      "1692    low    low      4    more    small    low  unacc\n",
      "1695    low    low      4    more      med    low  unacc\n",
      "1698    low    low      4    more      big    low  unacc\n",
      "1701    low    low  5more       2    small    low  unacc\n",
      "1704    low    low  5more       2      med    low  unacc\n",
      "1707    low    low  5more       2      big    low  unacc\n",
      "1710    low    low  5more       4    small    low  unacc\n",
      "1713    low    low  5more       4      med    low  unacc\n",
      "1716    low    low  5more       4      big    low  unacc\n",
      "1719    low    low  5more    more    small    low  unacc\n",
      "1722    low    low  5more    more      med    low  unacc\n",
      "1725    low    low  5more    more      big    low  unacc\n",
      "\n",
      "[576 rows x 7 columns]\n"
     ]
    }
   ],
   "source": [
    "newDF2 = data[data['class'] == 'unacc'] \n",
    "newDF3 = newDF2[newDF2['safety'] == 'low']\n",
    "print ('Dataframe where \"Class\" == \"unacc\" and \"Safety\" == \"low\":\\n')\n",
    "print (newDF3)"
   ]
  },
  {
   "cell_type": "code",
   "execution_count": null,
   "metadata": {},
   "outputs": [],
   "source": []
  },
  {
   "cell_type": "markdown",
   "metadata": {},
   "source": [
    "### TASK-9\n",
    "### Create a dataframe with only attributes: buying, maint, doors, and Class\n",
    "### Print the dataframe"
   ]
  },
  {
   "cell_type": "code",
   "execution_count": 209,
   "metadata": {},
   "outputs": [
    {
     "name": "stdout",
     "output_type": "stream",
     "text": [
      "Dataframe with attributes (buying, maint, doors, Class)\n",
      "\n",
      "     buying  maint  doors  class\n",
      "0     vhigh  vhigh      2  unacc\n",
      "1     vhigh  vhigh      2  unacc\n",
      "2     vhigh  vhigh      2  unacc\n",
      "3     vhigh  vhigh      2  unacc\n",
      "4     vhigh  vhigh      2  unacc\n",
      "5     vhigh  vhigh      2  unacc\n",
      "6     vhigh  vhigh      2  unacc\n",
      "7     vhigh  vhigh      2  unacc\n",
      "8     vhigh  vhigh      2  unacc\n",
      "9     vhigh  vhigh      2  unacc\n",
      "10    vhigh  vhigh      2  unacc\n",
      "11    vhigh  vhigh      2  unacc\n",
      "12    vhigh  vhigh      2  unacc\n",
      "13    vhigh  vhigh      2  unacc\n",
      "14    vhigh  vhigh      2  unacc\n",
      "15    vhigh  vhigh      2  unacc\n",
      "16    vhigh  vhigh      2  unacc\n",
      "17    vhigh  vhigh      2  unacc\n",
      "18    vhigh  vhigh      2  unacc\n",
      "19    vhigh  vhigh      2  unacc\n",
      "20    vhigh  vhigh      2  unacc\n",
      "21    vhigh  vhigh      2  unacc\n",
      "22    vhigh  vhigh      2  unacc\n",
      "23    vhigh  vhigh      2  unacc\n",
      "24    vhigh  vhigh      2  unacc\n",
      "25    vhigh  vhigh      2  unacc\n",
      "26    vhigh  vhigh      2  unacc\n",
      "27    vhigh  vhigh      3  unacc\n",
      "28    vhigh  vhigh      3  unacc\n",
      "29    vhigh  vhigh      3  unacc\n",
      "...     ...    ...    ...    ...\n",
      "1698    low    low      4  unacc\n",
      "1699    low    low      4   good\n",
      "1700    low    low      4  vgood\n",
      "1701    low    low  5more  unacc\n",
      "1702    low    low  5more  unacc\n",
      "1703    low    low  5more  unacc\n",
      "1704    low    low  5more  unacc\n",
      "1705    low    low  5more  unacc\n",
      "1706    low    low  5more  unacc\n",
      "1707    low    low  5more  unacc\n",
      "1708    low    low  5more  unacc\n",
      "1709    low    low  5more  unacc\n",
      "1710    low    low  5more  unacc\n",
      "1711    low    low  5more    acc\n",
      "1712    low    low  5more   good\n",
      "1713    low    low  5more  unacc\n",
      "1714    low    low  5more   good\n",
      "1715    low    low  5more  vgood\n",
      "1716    low    low  5more  unacc\n",
      "1717    low    low  5more   good\n",
      "1718    low    low  5more  vgood\n",
      "1719    low    low  5more  unacc\n",
      "1720    low    low  5more    acc\n",
      "1721    low    low  5more   good\n",
      "1722    low    low  5more  unacc\n",
      "1723    low    low  5more   good\n",
      "1724    low    low  5more  vgood\n",
      "1725    low    low  5more  unacc\n",
      "1726    low    low  5more   good\n",
      "1727    low    low  5more  vgood\n",
      "\n",
      "[1728 rows x 4 columns]\n"
     ]
    }
   ],
   "source": [
    "data9 = data[['buying', 'maint', 'doors', 'class']]\n",
    "print ('Dataframe with attributes (buying, maint, doors, Class)\\n')\n",
    "print (data9)"
   ]
  },
  {
   "cell_type": "code",
   "execution_count": null,
   "metadata": {},
   "outputs": [],
   "source": []
  },
  {
   "cell_type": "markdown",
   "metadata": {},
   "source": [
    "### TASK-10\n",
    "### Get a dataframe by removing all empty values (or NaN) in the original dataframe\n",
    "### Print length of the dataframe"
   ]
  },
  {
   "cell_type": "code",
   "execution_count": 211,
   "metadata": {},
   "outputs": [
    {
     "name": "stdout",
     "output_type": "stream",
     "text": [
      "Dataframe with no empty values:\n",
      "\n",
      "     buying  maint  doors persons lug_boot safety  class\n",
      "0     vhigh  vhigh      2       2    small    low  unacc\n",
      "1     vhigh  vhigh      2       2    small    med  unacc\n",
      "2     vhigh  vhigh      2       2    small   high  unacc\n",
      "3     vhigh  vhigh      2       2      med    low  unacc\n",
      "4     vhigh  vhigh      2       2      med    med  unacc\n",
      "5     vhigh  vhigh      2       2      med   high  unacc\n",
      "6     vhigh  vhigh      2       2      big    low  unacc\n",
      "7     vhigh  vhigh      2       2      big    med  unacc\n",
      "8     vhigh  vhigh      2       2      big   high  unacc\n",
      "9     vhigh  vhigh      2       4    small    low  unacc\n",
      "10    vhigh  vhigh      2       4    small    med  unacc\n",
      "11    vhigh  vhigh      2       4    small   high  unacc\n",
      "12    vhigh  vhigh      2       4      med    low  unacc\n",
      "13    vhigh  vhigh      2       4      med    med  unacc\n",
      "14    vhigh  vhigh      2       4      med   high  unacc\n",
      "15    vhigh  vhigh      2       4      big    low  unacc\n",
      "16    vhigh  vhigh      2       4      big    med  unacc\n",
      "17    vhigh  vhigh      2       4      big   high  unacc\n",
      "18    vhigh  vhigh      2    more    small    low  unacc\n",
      "19    vhigh  vhigh      2    more    small    med  unacc\n",
      "20    vhigh  vhigh      2    more    small   high  unacc\n",
      "21    vhigh  vhigh      2    more      med    low  unacc\n",
      "22    vhigh  vhigh      2    more      med    med  unacc\n",
      "23    vhigh  vhigh      2    more      med   high  unacc\n",
      "24    vhigh  vhigh      2    more      big    low  unacc\n",
      "25    vhigh  vhigh      2    more      big    med  unacc\n",
      "26    vhigh  vhigh      2    more      big   high  unacc\n",
      "27    vhigh  vhigh      3       2    small    low  unacc\n",
      "28    vhigh  vhigh      3       2    small    med  unacc\n",
      "29    vhigh  vhigh      3       2    small   high  unacc\n",
      "...     ...    ...    ...     ...      ...    ...    ...\n",
      "1698    low    low      4    more      big    low  unacc\n",
      "1699    low    low      4    more      big    med   good\n",
      "1700    low    low      4    more      big   high  vgood\n",
      "1701    low    low  5more       2    small    low  unacc\n",
      "1702    low    low  5more       2    small    med  unacc\n",
      "1703    low    low  5more       2    small   high  unacc\n",
      "1704    low    low  5more       2      med    low  unacc\n",
      "1705    low    low  5more       2      med    med  unacc\n",
      "1706    low    low  5more       2      med   high  unacc\n",
      "1707    low    low  5more       2      big    low  unacc\n",
      "1708    low    low  5more       2      big    med  unacc\n",
      "1709    low    low  5more       2      big   high  unacc\n",
      "1710    low    low  5more       4    small    low  unacc\n",
      "1711    low    low  5more       4    small    med    acc\n",
      "1712    low    low  5more       4    small   high   good\n",
      "1713    low    low  5more       4      med    low  unacc\n",
      "1714    low    low  5more       4      med    med   good\n",
      "1715    low    low  5more       4      med   high  vgood\n",
      "1716    low    low  5more       4      big    low  unacc\n",
      "1717    low    low  5more       4      big    med   good\n",
      "1718    low    low  5more       4      big   high  vgood\n",
      "1719    low    low  5more    more    small    low  unacc\n",
      "1720    low    low  5more    more    small    med    acc\n",
      "1721    low    low  5more    more    small   high   good\n",
      "1722    low    low  5more    more      med    low  unacc\n",
      "1723    low    low  5more    more      med    med   good\n",
      "1724    low    low  5more    more      med   high  vgood\n",
      "1725    low    low  5more    more      big    low  unacc\n",
      "1726    low    low  5more    more      big    med   good\n",
      "1727    low    low  5more    more      big   high  vgood\n",
      "\n",
      "[1722 rows x 7 columns]\n"
     ]
    }
   ],
   "source": [
    "data10 = data.dropna()\n",
    "print ('Dataframe with no empty values:\\n')\n",
    "print (data10)\n"
   ]
  },
  {
   "cell_type": "code",
   "execution_count": 212,
   "metadata": {},
   "outputs": [
    {
     "name": "stdout",
     "output_type": "stream",
     "text": [
      "Length: 1722\n"
     ]
    }
   ],
   "source": [
    "print (\"Length: \" + str(data10.shape[0]))"
   ]
  },
  {
   "cell_type": "markdown",
   "metadata": {},
   "source": [
    "### TASK-11\n",
    "### Duplicate the original dataframe\n",
    "### Create a random column named \"Color\" in the new dataframe\n",
    "### The column should be filled with random values between 0 and 4\n",
    "### Print number of attributes in the dataframe and a count of each value in the column \"Color\""
   ]
  },
  {
   "cell_type": "code",
   "execution_count": 217,
   "metadata": {},
   "outputs": [
    {
     "name": "stdout",
     "output_type": "stream",
     "text": [
      "Duplicate:\n",
      "\n",
      "     buying  maint  doors persons lug_boot safety  class     color\n",
      "0     vhigh  vhigh      2       2    small    low  unacc  2.894072\n",
      "1     vhigh  vhigh      2       2    small    med  unacc  3.233347\n",
      "2     vhigh  vhigh      2       2    small   high  unacc  0.279124\n",
      "3     vhigh  vhigh      2       2      med    low  unacc  0.229623\n",
      "4     vhigh  vhigh      2       2      med    med  unacc  3.802148\n",
      "5     vhigh  vhigh      2       2      med   high  unacc  3.694928\n",
      "6     vhigh  vhigh      2       2      big    low  unacc  3.061530\n",
      "7     vhigh  vhigh      2       2      big    med  unacc  3.854236\n",
      "8     vhigh  vhigh      2       2      big   high  unacc  3.180534\n",
      "9     vhigh  vhigh      2       4    small    low  unacc  0.941598\n",
      "10    vhigh  vhigh      2       4    small    med  unacc  1.296936\n",
      "11    vhigh  vhigh      2       4    small   high  unacc  1.466245\n",
      "12    vhigh  vhigh      2       4      med    low  unacc  3.133700\n",
      "13    vhigh  vhigh      2       4      med    med  unacc  0.350988\n",
      "14    vhigh  vhigh      2       4      med   high  unacc  3.839716\n",
      "15    vhigh  vhigh      2       4      big    low  unacc  1.888645\n",
      "16    vhigh  vhigh      2       4      big    med  unacc  0.576032\n",
      "17    vhigh  vhigh      2       4      big   high  unacc  2.164777\n",
      "18    vhigh  vhigh      2    more    small    low  unacc  1.331784\n",
      "19    vhigh  vhigh      2    more    small    med  unacc  1.665021\n",
      "20    vhigh  vhigh      2    more    small   high  unacc  3.555525\n",
      "21    vhigh  vhigh      2    more      med    low  unacc  2.683046\n",
      "22    vhigh  vhigh      2    more      med    med  unacc  1.741788\n",
      "23    vhigh  vhigh      2    more      med   high  unacc  0.013358\n",
      "24    vhigh  vhigh      2    more      big    low  unacc  0.816941\n",
      "25    vhigh  vhigh      2    more      big    med  unacc  3.181633\n",
      "26    vhigh  vhigh      2    more      big   high  unacc  0.575761\n",
      "27    vhigh  vhigh      3       2    small    low  unacc  2.078432\n",
      "28    vhigh  vhigh      3       2    small    med  unacc  3.648380\n",
      "29    vhigh  vhigh      3       2    small   high  unacc  2.333223\n",
      "...     ...    ...    ...     ...      ...    ...    ...       ...\n",
      "1698    low    low      4    more      big    low  unacc  1.847922\n",
      "1699    low    low      4    more      big    med   good  1.288492\n",
      "1700    low    low      4    more      big   high  vgood  3.260182\n",
      "1701    low    low  5more       2    small    low  unacc  2.452948\n",
      "1702    low    low  5more       2    small    med  unacc  2.662531\n",
      "1703    low    low  5more       2    small   high  unacc  0.204682\n",
      "1704    low    low  5more       2      med    low  unacc  1.525876\n",
      "1705    low    low  5more       2      med    med  unacc  2.612871\n",
      "1706    low    low  5more       2      med   high  unacc  3.393243\n",
      "1707    low    low  5more       2      big    low  unacc  1.397089\n",
      "1708    low    low  5more       2      big    med  unacc  3.762443\n",
      "1709    low    low  5more       2      big   high  unacc  3.007694\n",
      "1710    low    low  5more       4    small    low  unacc  1.577836\n",
      "1711    low    low  5more       4    small    med    acc  0.309212\n",
      "1712    low    low  5more       4    small   high   good  3.566426\n",
      "1713    low    low  5more       4      med    low  unacc  3.483578\n",
      "1714    low    low  5more       4      med    med   good  0.047069\n",
      "1715    low    low  5more       4      med   high  vgood  1.172200\n",
      "1716    low    low  5more       4      big    low  unacc  1.629850\n",
      "1717    low    low  5more       4      big    med   good  0.203575\n",
      "1718    low    low  5more       4      big   high  vgood  1.226304\n",
      "1719    low    low  5more    more    small    low  unacc  2.111846\n",
      "1720    low    low  5more    more    small    med    acc  3.495275\n",
      "1721    low    low  5more    more    small   high   good  1.497462\n",
      "1722    low    low  5more    more      med    low  unacc  1.208364\n",
      "1723    low    low  5more    more      med    med   good  2.188525\n",
      "1724    low    low  5more    more      med   high  vgood  0.078935\n",
      "1725    low    low  5more    more      big    low  unacc  3.984886\n",
      "1726    low    low  5more    more      big    med   good  3.707077\n",
      "1727    low    low  5more    more      big   high  vgood  2.552293\n",
      "\n",
      "[1728 rows x 8 columns]\n",
      "\n",
      "Number of Attributes: 8\n",
      "\n",
      "Sum of Color: 3468.537758953352\n"
     ]
    }
   ],
   "source": [
    "duplicate = data\n",
    "sample_column_array = np.random.rand(1728)*4\n",
    "duplicate['color'] = sample_column_array.tolist()\n",
    "print (\"Duplicate:\\n\\n\" + str(duplicate))\n",
    "print(\"\\nNumber of Attributes: \" + str(duplicate.shape[1]))\n",
    "print(\"\\nSum of Color: \" + str(duplicate['color'].sum()))\n"
   ]
  },
  {
   "cell_type": "code",
   "execution_count": null,
   "metadata": {},
   "outputs": [],
   "source": []
  },
  {
   "cell_type": "markdown",
   "metadata": {
    "collapsed": true
   },
   "source": [
    "### TASK-12\n",
    "### Save the dataframe with \"Color\" attribute as \"Car_modified.csv\" file"
   ]
  },
  {
   "cell_type": "code",
   "execution_count": 129,
   "metadata": {},
   "outputs": [],
   "source": [
    "duplicate.to_csv(\"Car_modified.csv\")"
   ]
  },
  {
   "cell_type": "code",
   "execution_count": null,
   "metadata": {},
   "outputs": [],
   "source": []
  },
  {
   "cell_type": "markdown",
   "metadata": {},
   "source": [
    "### TASK-13\n",
    "### Load the Iris data into a dataframe\n",
    "### Print the number of attributes, length of the dataframe, and uniques attributes in the dataframe"
   ]
  },
  {
   "cell_type": "code",
   "execution_count": 5,
   "metadata": {},
   "outputs": [
    {
     "name": "stdout",
     "output_type": "stream",
     "text": [
      "Iris:\n",
      "\n",
      "     Sepal Length  Sepal Width  Petal Length   Petal Width           Class\n",
      "0             5.1          3.5           1.4           0.2     Iris-setosa\n",
      "1             4.9          3.0           1.4           0.2     Iris-setosa\n",
      "2             4.7          3.2           1.3           0.2     Iris-setosa\n",
      "3             4.6          3.1           1.5           0.2     Iris-setosa\n",
      "4             5.0          3.6           1.4           0.2     Iris-setosa\n",
      "5             5.4          3.9           1.7           0.4     Iris-setosa\n",
      "6             4.6          3.4           1.4           0.3     Iris-setosa\n",
      "7             5.0          3.4           1.5           0.2     Iris-setosa\n",
      "8             4.4          2.9           1.4           0.2     Iris-setosa\n",
      "9             4.9          3.1           1.5           0.1     Iris-setosa\n",
      "10            5.4          3.7           1.5           0.2     Iris-setosa\n",
      "11            4.8          3.4           1.6           0.2     Iris-setosa\n",
      "12            4.8          3.0           1.4           0.1     Iris-setosa\n",
      "13            4.3          3.0           1.1           0.1     Iris-setosa\n",
      "14            5.8          4.0           1.2           0.2     Iris-setosa\n",
      "15            5.7          4.4           1.5           0.4     Iris-setosa\n",
      "16            5.4          3.9           1.3           0.4     Iris-setosa\n",
      "17            5.1          3.5           1.4           0.3     Iris-setosa\n",
      "18            5.7          3.8           1.7           0.3     Iris-setosa\n",
      "19            5.1          3.8           1.5           0.3     Iris-setosa\n",
      "20            5.4          3.4           1.7           0.2     Iris-setosa\n",
      "21            5.1          3.7           1.5           0.4     Iris-setosa\n",
      "22            4.6          3.6           1.0           0.2     Iris-setosa\n",
      "23            5.1          3.3           1.7           0.5     Iris-setosa\n",
      "24            4.8          3.4           1.9           0.2     Iris-setosa\n",
      "25            5.0          3.0           1.6           0.2     Iris-setosa\n",
      "26            5.0          3.4           1.6           0.4     Iris-setosa\n",
      "27            5.2          3.5           1.5           0.2     Iris-setosa\n",
      "28            5.2          3.4           1.4           0.2     Iris-setosa\n",
      "29            4.7          3.2           1.6           0.2     Iris-setosa\n",
      "..            ...          ...           ...           ...             ...\n",
      "120           6.9          3.2           5.7           2.3  Iris-virginica\n",
      "121           5.6          2.8           4.9           2.0  Iris-virginica\n",
      "122           7.7          2.8           6.7           2.0  Iris-virginica\n",
      "123           6.3          2.7           4.9           1.8  Iris-virginica\n",
      "124           6.7          3.3           5.7           2.1  Iris-virginica\n",
      "125           7.2          3.2           6.0           1.8  Iris-virginica\n",
      "126           6.2          2.8           4.8           1.8  Iris-virginica\n",
      "127           6.1          3.0           4.9           1.8  Iris-virginica\n",
      "128           6.4          2.8           5.6           2.1  Iris-virginica\n",
      "129           7.2          3.0           5.8           1.6  Iris-virginica\n",
      "130           7.4          2.8           6.1           1.9  Iris-virginica\n",
      "131           7.9          3.8           6.4           2.0  Iris-virginica\n",
      "132           6.4          2.8           5.6           2.2  Iris-virginica\n",
      "133           6.3          2.8           5.1           1.5  Iris-virginica\n",
      "134           6.1          2.6           5.6           1.4  Iris-virginica\n",
      "135           7.7          3.0           6.1           2.3  Iris-virginica\n",
      "136           6.3          3.4           5.6           2.4  Iris-virginica\n",
      "137           6.4          3.1           5.5           1.8  Iris-virginica\n",
      "138           6.0          3.0           4.8           1.8  Iris-virginica\n",
      "139           6.9          3.1           5.4           2.1  Iris-virginica\n",
      "140           6.7          3.1           5.6           2.4  Iris-virginica\n",
      "141           6.9          3.1           5.1           2.3  Iris-virginica\n",
      "142           5.8          2.7           5.1           1.9  Iris-virginica\n",
      "143           6.8          3.2           5.9           2.3  Iris-virginica\n",
      "144           6.7          3.3           5.7           2.5  Iris-virginica\n",
      "145           6.7          3.0           5.2           2.3  Iris-virginica\n",
      "146           6.3          2.5           5.0           1.9  Iris-virginica\n",
      "147           6.5          3.0           5.2           2.0  Iris-virginica\n",
      "148           6.2          3.4           5.4           2.3  Iris-virginica\n",
      "149           5.9          3.0           5.1           1.8  Iris-virginica\n",
      "\n",
      "[150 rows x 5 columns]\n"
     ]
    }
   ],
   "source": [
    "iris = pd.read_csv(\"iris.csv\")\n",
    "print ('Iris:\\n\\n' + str(iris))"
   ]
  },
  {
   "cell_type": "code",
   "execution_count": 220,
   "metadata": {},
   "outputs": [
    {
     "name": "stdout",
     "output_type": "stream",
     "text": [
      "Length: 150\n",
      "Width: 5\n"
     ]
    }
   ],
   "source": [
    "print('Length: ' + str(iris.shape[0]))\n",
    "print(\"Width: \" + str(iris.shape[1]))"
   ]
  },
  {
   "cell_type": "code",
   "execution_count": 15,
   "metadata": {},
   "outputs": [
    {
     "name": "stdout",
     "output_type": "stream",
     "text": [
      "Attributes:\n",
      "\n",
      "['Iris-setosa' 'Iris-versicolor' 'Iris-virginica']\n"
     ]
    }
   ],
   "source": [
    "print ('Unique Attributes:\\n')\n",
    "print (iris[column].unique())"
   ]
  },
  {
   "cell_type": "markdown",
   "metadata": {},
   "source": [
    "### TASK-14\n",
    "### Get a sum of attributes \"Sepal Width\" and \"Sepal Length\""
   ]
  },
  {
   "cell_type": "code",
   "execution_count": 222,
   "metadata": {},
   "outputs": [
    {
     "name": "stdout",
     "output_type": "stream",
     "text": [
      "Sepal Width Sum: 458.1\n"
     ]
    }
   ],
   "source": [
    "total = iris['Sepal Width'].sum()\n",
    "print (\"Sepal Width Sum: \" + str(total))"
   ]
  },
  {
   "cell_type": "code",
   "execution_count": 223,
   "metadata": {},
   "outputs": [
    {
     "name": "stdout",
     "output_type": "stream",
     "text": [
      "Sepal Length Sum: 876.5\n"
     ]
    }
   ],
   "source": [
    "total2 = iris['Sepal Length'].sum()\n",
    "print (\"Sepal Length Sum: \" + str(total2))"
   ]
  },
  {
   "cell_type": "markdown",
   "metadata": {},
   "source": [
    "### TASK-15\n",
    "### Get a mean of attributes \"Petal Length\" and \"Petal Width\""
   ]
  },
  {
   "cell_type": "code",
   "execution_count": 224,
   "metadata": {},
   "outputs": [
    {
     "name": "stdout",
     "output_type": "stream",
     "text": [
      "Petal Length Mean: 3.7586666666666693\n"
     ]
    }
   ],
   "source": [
    "meanL = iris['Petal Length'].mean()\n",
    "print (\"Petal Length Mean: \" + str(meanL))"
   ]
  },
  {
   "cell_type": "code",
   "execution_count": 225,
   "metadata": {},
   "outputs": [
    {
     "name": "stdout",
     "output_type": "stream",
     "text": [
      "Petal Width Mean: 1.1986666666666672\n"
     ]
    }
   ],
   "source": [
    "meanW = iris[\" Petal Width\"].mean()\n",
    "print ('Petal Width Mean: ' + str(meanW))"
   ]
  },
  {
   "cell_type": "markdown",
   "metadata": {},
   "source": [
    "### TASK-16\n",
    "### Print standard deviation, minimum, and maximum value of all attributes except the \"Class\" attribute"
   ]
  },
  {
   "cell_type": "code",
   "execution_count": 178,
   "metadata": {},
   "outputs": [
    {
     "name": "stdout",
     "output_type": "stream",
     "text": [
      "Sepal Length: \n",
      "     Standard Deviation = 0.8280661279778629\n",
      "     Maximum = 7.9\n",
      "     Minimum = 4.3\n",
      "\n",
      "Sepal Width: \n",
      "     Standard Deviation = 0.4335943113621737\n",
      "     Maximum = 4.4\n",
      "     Minimum = 2.0\n",
      "\n",
      "Petal Length: \n",
      "     Standard Deviation = 1.7644204199522617\n",
      "     Maximum = 6.9\n",
      "     Minimum = 1.0\n",
      "\n",
      " Petal Width: \n",
      "     Standard Deviation = 0.7631607417008414\n",
      "     Maximum = 2.5\n",
      "     Minimum = 0.1\n",
      "\n"
     ]
    }
   ],
   "source": [
    "for column in iris:\n",
    "    if column != 'Class':\n",
    "        print (column + ': ')\n",
    "        print ('     Standard Deviation = ' + str(iris[column].std()))\n",
    "        print ('     Maximum = ' + str(iris[column].max()))\n",
    "        print ('     Minimum = ' + str(iris[column].min()))\n",
    "        print ('')\n",
    "        \n",
    "        "
   ]
  },
  {
   "cell_type": "code",
   "execution_count": 1,
   "metadata": {},
   "outputs": [
    {
     "ename": "NameError",
     "evalue": "name 'iris' is not defined",
     "output_type": "error",
     "traceback": [
      "\u001b[1;31m---------------------------------------------------------------------------\u001b[0m",
      "\u001b[1;31mNameError\u001b[0m                                 Traceback (most recent call last)",
      "\u001b[1;32m<ipython-input-1-e145b98ca32a>\u001b[0m in \u001b[0;36m<module>\u001b[1;34m\u001b[0m\n\u001b[1;32m----> 1\u001b[1;33m \u001b[0mprint\u001b[0m\u001b[1;33m(\u001b[0m\u001b[0mlen\u001b[0m\u001b[1;33m(\u001b[0m\u001b[0miris\u001b[0m\u001b[1;33m[\u001b[0m\u001b[0miris\u001b[0m\u001b[1;33m[\u001b[0m\u001b[1;34m'Class'\u001b[0m\u001b[1;33m]\u001b[0m \u001b[1;33m==\u001b[0m \u001b[1;34m'Iris_setosa'\u001b[0m\u001b[1;33m]\u001b[0m\u001b[1;33m)\u001b[0m\u001b[1;33m)\u001b[0m\u001b[1;33m\u001b[0m\u001b[1;33m\u001b[0m\u001b[0m\n\u001b[0m",
      "\u001b[1;31mNameError\u001b[0m: name 'iris' is not defined"
     ]
    }
   ],
   "source": [
    "print(len(iris[iris['Class'] == 'Iris_setosa']))"
   ]
  },
  {
   "cell_type": "markdown",
   "metadata": {},
   "source": [
    "### TASK-17\n",
    "### Print number of instances in the dataframe with attribute \"Class\" = Iris_setosa\n",
    "### Print number of instances in the dataframe with attribute \"Class\" = Iris_versicolor\n",
    "### Print number of instances in the dataframe with attribute \"Class\" = Iris_virginica"
   ]
  },
  {
   "cell_type": "code",
   "execution_count": 185,
   "metadata": {},
   "outputs": [
    {
     "name": "stdout",
     "output_type": "stream",
     "text": [
      "Iris-virginica     50\n",
      "Iris-versicolor    50\n",
      "Iris-setosa        50\n",
      "Name: Class, dtype: int64\n"
     ]
    }
   ],
   "source": [
    "count = iris['Class'].value_counts()\n",
    "print (count)"
   ]
  },
  {
   "cell_type": "code",
   "execution_count": null,
   "metadata": {},
   "outputs": [],
   "source": []
  },
  {
   "cell_type": "markdown",
   "metadata": {},
   "source": [
    "### TASK-18\n",
    "### Find average \"Petal Length\" for each Class type\n",
    "### Find average \"Petal Width\" for each Class type"
   ]
  },
  {
   "cell_type": "code",
   "execution_count": 193,
   "metadata": {},
   "outputs": [
    {
     "name": "stdout",
     "output_type": "stream",
     "text": [
      "Petal Length:\n",
      "Iris-virginica = 5.552\n",
      "Iris-versicolor = 4.26\n",
      "Iris-setosa = 1.464\n"
     ]
    }
   ],
   "source": [
    "virginica = iris[iris['Class'] == 'Iris-virginica']['Petal Length'].mean()\n",
    "versicolor = iris[iris['Class'] == 'Iris-versicolor']['Petal Length'].mean()\n",
    "setosa = iris[iris['Class'] == 'Iris-setosa']['Petal Length'].mean()\n",
    "print ('Petal Length:')\n",
    "print ('Iris-virginica = ' + str(virginica))\n",
    "print ('Iris-versicolor = ' + str(versicolor))\n",
    "print ('Iris-setosa = ' + str(setosa))"
   ]
  },
  {
   "cell_type": "code",
   "execution_count": 195,
   "metadata": {},
   "outputs": [
    {
     "name": "stdout",
     "output_type": "stream",
     "text": [
      "Petal Width:\n",
      "Iris-virginica = 2.026\n",
      "Iris-versicolor = 1.3259999999999998\n",
      "Iris-setosa = 0.2439999999999999\n"
     ]
    }
   ],
   "source": [
    "virginica = iris[iris['Class'] == 'Iris-virginica'][' Petal Width'].mean()\n",
    "versicolor = iris[iris['Class'] == 'Iris-versicolor'][' Petal Width'].mean()\n",
    "setosa = iris[iris['Class'] == 'Iris-setosa'][' Petal Width'].mean()\n",
    "print ('Petal Width:')\n",
    "print ('Iris-virginica = ' + str(virginica))\n",
    "print ('Iris-versicolor = ' + str(versicolor))\n",
    "print ('Iris-setosa = ' + str(setosa))"
   ]
  },
  {
   "cell_type": "markdown",
   "metadata": {},
   "source": [
    "### TASK-19\n",
    "### Print first 10 rows in the \"Iris\" dataframe\n",
    "### Print last 10 rows in the \"Iris\" dataframe"
   ]
  },
  {
   "cell_type": "code",
   "execution_count": 228,
   "metadata": {},
   "outputs": [
    {
     "name": "stdout",
     "output_type": "stream",
     "text": [
      "First 10 Rows: \n",
      "\n",
      "   Sepal Length  Sepal Width  Petal Length   Petal Width        Class\n",
      "0           5.1          3.5           1.4           0.2  Iris-setosa\n",
      "1           4.9          3.0           1.4           0.2  Iris-setosa\n",
      "2           4.7          3.2           1.3           0.2  Iris-setosa\n",
      "3           4.6          3.1           1.5           0.2  Iris-setosa\n",
      "4           5.0          3.6           1.4           0.2  Iris-setosa\n",
      "5           5.4          3.9           1.7           0.4  Iris-setosa\n",
      "6           4.6          3.4           1.4           0.3  Iris-setosa\n",
      "7           5.0          3.4           1.5           0.2  Iris-setosa\n",
      "8           4.4          2.9           1.4           0.2  Iris-setosa\n",
      "9           4.9          3.1           1.5           0.1  Iris-setosa\n"
     ]
    }
   ],
   "source": [
    "print (\"First 10 Rows: \\n\\n\" + str(iris.head(10)))"
   ]
  },
  {
   "cell_type": "code",
   "execution_count": 229,
   "metadata": {},
   "outputs": [
    {
     "name": "stdout",
     "output_type": "stream",
     "text": [
      "Last 10 Rows: \n",
      "\n",
      "     Sepal Length  Sepal Width  Petal Length   Petal Width           Class\n",
      "140           6.7          3.1           5.6           2.4  Iris-virginica\n",
      "141           6.9          3.1           5.1           2.3  Iris-virginica\n",
      "142           5.8          2.7           5.1           1.9  Iris-virginica\n",
      "143           6.8          3.2           5.9           2.3  Iris-virginica\n",
      "144           6.7          3.3           5.7           2.5  Iris-virginica\n",
      "145           6.7          3.0           5.2           2.3  Iris-virginica\n",
      "146           6.3          2.5           5.0           1.9  Iris-virginica\n",
      "147           6.5          3.0           5.2           2.0  Iris-virginica\n",
      "148           6.2          3.4           5.4           2.3  Iris-virginica\n",
      "149           5.9          3.0           5.1           1.8  Iris-virginica\n"
     ]
    }
   ],
   "source": [
    "print (\"Last 10 Rows: \\n\\n\" + str(iris.tail(10)))"
   ]
  },
  {
   "cell_type": "code",
   "execution_count": null,
   "metadata": {},
   "outputs": [],
   "source": []
  }
 ],
 "metadata": {
  "kernelspec": {
   "display_name": "Python 3",
   "language": "python",
   "name": "python3"
  },
  "language_info": {
   "codemirror_mode": {
    "name": "ipython",
    "version": 3
   },
   "file_extension": ".py",
   "mimetype": "text/x-python",
   "name": "python",
   "nbconvert_exporter": "python",
   "pygments_lexer": "ipython3",
   "version": "3.7.1"
  }
 },
 "nbformat": 4,
 "nbformat_minor": 2
}
